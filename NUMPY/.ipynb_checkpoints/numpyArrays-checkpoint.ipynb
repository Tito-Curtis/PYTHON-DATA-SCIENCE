{
 "cells": [
  {
   "cell_type": "markdown",
   "id": "e55058db",
   "metadata": {},
   "source": [
    "## creating numpy array "
   ]
  },
  {
   "cell_type": "code",
   "execution_count": 1,
   "id": "d89e4c00",
   "metadata": {},
   "outputs": [],
   "source": [
    "import numpy as np"
   ]
  },
  {
   "cell_type": "code",
   "execution_count": null,
   "id": "12017cf7",
   "metadata": {},
   "outputs": [],
   "source": [
    "### 1. converting python list into numpy arra"
   ]
  },
  {
   "cell_type": "code",
   "execution_count": 2,
   "id": "b403c5aa",
   "metadata": {},
   "outputs": [],
   "source": [
    "myArray = np.array([1,3,4])"
   ]
  },
  {
   "cell_type": "code",
   "execution_count": 3,
   "id": "213be634",
   "metadata": {},
   "outputs": [
    {
     "name": "stdout",
     "output_type": "stream",
     "text": [
      "<class 'numpy.ndarray'>\n"
     ]
    }
   ],
   "source": [
    "print(type(myArray))"
   ]
  },
  {
   "cell_type": "code",
   "execution_count": 5,
   "id": "a7d25697",
   "metadata": {},
   "outputs": [],
   "source": [
    "myMatrix= [[2,4,6],[7,9,12],[5,1,6]]"
   ]
  },
  {
   "cell_type": "code",
   "execution_count": 6,
   "id": "46456954",
   "metadata": {},
   "outputs": [
    {
     "data": {
      "text/plain": [
       "array([[ 2,  4,  6],\n",
       "       [ 7,  9, 12],\n",
       "       [ 5,  1,  6]])"
      ]
     },
     "execution_count": 6,
     "metadata": {},
     "output_type": "execute_result"
    }
   ],
   "source": [
    "np.array(myMatrix)"
   ]
  },
  {
   "cell_type": "code",
   "execution_count": null,
   "id": "e173d8f3",
   "metadata": {},
   "outputs": [],
   "source": []
  }
 ],
 "metadata": {
  "kernelspec": {
   "display_name": "Python 3 (ipykernel)",
   "language": "python",
   "name": "python3"
  },
  "language_info": {
   "codemirror_mode": {
    "name": "ipython",
    "version": 3
   },
   "file_extension": ".py",
   "mimetype": "text/x-python",
   "name": "python",
   "nbconvert_exporter": "python",
   "pygments_lexer": "ipython3",
   "version": "3.10.9"
  }
 },
 "nbformat": 4,
 "nbformat_minor": 5
}
